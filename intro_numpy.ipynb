{
 "cells": [
  {
   "cell_type": "code",
   "execution_count": 1,
   "metadata": {},
   "outputs": [],
   "source": [
    "import numpy as np"
   ]
  },
  {
   "cell_type": "code",
   "execution_count": 2,
   "metadata": {},
   "outputs": [],
   "source": [
    "x1 = np.array([1,2,3,4,5])\n",
    "x2 = np.array([[1,2,3,4,5]])"
   ]
  },
  {
   "cell_type": "code",
   "execution_count": 3,
   "metadata": {},
   "outputs": [
    {
     "name": "stdout",
     "output_type": "stream",
     "text": [
      "[1 2 3 4 5] berbentuk (5,)\n",
      "[[1 2 3 4 5]] berbentuk (1, 5)\n"
     ]
    }
   ],
   "source": [
    "print(f'{x1} berbentuk {x1.shape}')\n",
    "print(f'{x2} berbentuk {x2.shape}')"
   ]
  },
  {
   "cell_type": "code",
   "execution_count": 4,
   "metadata": {},
   "outputs": [
    {
     "ename": "ValueError",
     "evalue": "shapes (5,) and (1,5) not aligned: 5 (dim 0) != 1 (dim 0)",
     "output_type": "error",
     "traceback": [
      "\u001b[0;31m---------------------------------------------------------------------------\u001b[0m",
      "\u001b[0;31mValueError\u001b[0m                                Traceback (most recent call last)",
      "Cell \u001b[0;32mIn[4], line 1\u001b[0m\n\u001b[0;32m----> 1\u001b[0m x3 \u001b[39m=\u001b[39m np\u001b[39m.\u001b[39;49mdot(x1,x2)\n",
      "File \u001b[0;32m<__array_function__ internals>:180\u001b[0m, in \u001b[0;36mdot\u001b[0;34m(*args, **kwargs)\u001b[0m\n",
      "\u001b[0;31mValueError\u001b[0m: shapes (5,) and (1,5) not aligned: 5 (dim 0) != 1 (dim 0)"
     ]
    }
   ],
   "source": [
    "x3 = np.dot(x1,x2)"
   ]
  },
  {
   "cell_type": "code",
   "execution_count": 9,
   "metadata": {},
   "outputs": [
    {
     "name": "stdout",
     "output_type": "stream",
     "text": [
      "[[1]\n",
      " [2]\n",
      " [3]\n",
      " [4]\n",
      " [5]] berbentuk (5, 1)\n"
     ]
    }
   ],
   "source": [
    "x3 = x1.reshape(-1,1)\n",
    "print(f'{x3} berbentuk {x3.shape}')"
   ]
  },
  {
   "cell_type": "code",
   "execution_count": 11,
   "metadata": {},
   "outputs": [
    {
     "name": "stdout",
     "output_type": "stream",
     "text": [
      "[[55]]\n"
     ]
    }
   ],
   "source": [
    "x4 = np.dot(x2,x3)\n",
    "print(x4)"
   ]
  },
  {
   "cell_type": "code",
   "execution_count": 12,
   "metadata": {},
   "outputs": [
    {
     "name": "stdout",
     "output_type": "stream",
     "text": [
      "[[ 1  2  3  4  5]\n",
      " [ 2  4  6  8 10]\n",
      " [ 3  6  9 12 15]\n",
      " [ 4  8 12 16 20]\n",
      " [ 5 10 15 20 25]]\n"
     ]
    }
   ],
   "source": [
    "x5 = np.dot(x3,x2)\n",
    "print(x5)"
   ]
  },
  {
   "cell_type": "code",
   "execution_count": 13,
   "metadata": {},
   "outputs": [],
   "source": [
    "x6 = np.array([[1,2,3],\n",
    "               [4,5,6],\n",
    "               [7,8,9]])"
   ]
  },
  {
   "cell_type": "code",
   "execution_count": 16,
   "metadata": {},
   "outputs": [
    {
     "name": "stdout",
     "output_type": "stream",
     "text": [
      "[0 1 2 3 4 5 6 7 8]\n"
     ]
    }
   ],
   "source": [
    "x7 = np.arange(9)\n",
    "print(x7)"
   ]
  },
  {
   "cell_type": "code",
   "execution_count": 20,
   "metadata": {},
   "outputs": [
    {
     "name": "stdout",
     "output_type": "stream",
     "text": [
      "[0.18985582 0.89981181 0.14996184 0.07838759 0.59160912 0.38510233\n",
      " 0.75878967 0.70542988 0.29601604 0.87461928]\n"
     ]
    }
   ],
   "source": [
    "x8 = np.random.rand(10)\n",
    "print(x8)"
   ]
  },
  {
   "cell_type": "code",
   "execution_count": 23,
   "metadata": {},
   "outputs": [
    {
     "name": "stdout",
     "output_type": "stream",
     "text": [
      "(50,)\n",
      "[24 91 31 24 69 35 32 61 31 60 99 18 50 10  8 85 68 18 15 96 20 98 69 12\n",
      " 63 59 91 16 68 57 33 84  5 53 33 53 97 63 63 17 20 40 95 41  1 75 70 87\n",
      " 64 60]\n"
     ]
    }
   ],
   "source": [
    "x9 = np.random.randint(0,100,50)\n",
    "print(x9.shape)\n",
    "print(x9)"
   ]
  },
  {
   "cell_type": "code",
   "execution_count": 42,
   "metadata": {},
   "outputs": [
    {
     "name": "stdout",
     "output_type": "stream",
     "text": [
      "[12 63 59 91 16 68 57 33 84  5 53 33 53 97 63 63 17 20 40 95 41  1 75 70\n",
      " 87]\n",
      "[12 16 84 53 17 41 87]\n",
      "[75 70 87 64 60]\n",
      "[24 91 31 24 69]\n",
      "24\n",
      "60\n",
      "2532\n",
      "50.64\n",
      "[-24 -91 -31 -24 -69 -35 -32 -61 -31 -60 -99 -18 -50 -10  -8 -85 -68 -18\n",
      " -15 -96 -20 -98 -69 -12 -63 -59 -91 -16 -68 -57 -33 -84  -5 -53 -33 -53\n",
      " -97 -63 -63 -17 -20 -40 -95 -41  -1 -75 -70 -87 -64 -60]\n"
     ]
    }
   ],
   "source": [
    "print(x9[23:48])\n",
    "print(x9[23:48:4])\n",
    "print(x9[-5:])\n",
    "print(x9[:5])\n",
    "print(x9[0])\n",
    "print(x9[-1])\n",
    "print(np.sum(x9))\n",
    "print(np.mean(x9))\n",
    "print(-x9)"
   ]
  },
  {
   "cell_type": "code",
   "execution_count": 29,
   "metadata": {},
   "outputs": [
    {
     "name": "stdout",
     "output_type": "stream",
     "text": [
      "[0.82565928 0.95999842 0.49329927 0.71842126]\n"
     ]
    }
   ],
   "source": [
    "x10 = np.random.random_sample(4)\n",
    "print(x10)"
   ]
  },
  {
   "cell_type": "code",
   "execution_count": 31,
   "metadata": {},
   "outputs": [
    {
     "name": "stdout",
     "output_type": "stream",
     "text": [
      "[0. 0. 0.]\n"
     ]
    }
   ],
   "source": [
    "x11 = np.zeros(3)\n",
    "print(x11)"
   ]
  },
  {
   "cell_type": "code",
   "execution_count": 32,
   "metadata": {},
   "outputs": [
    {
     "name": "stdout",
     "output_type": "stream",
     "text": [
      "[1. 1. 1.]\n"
     ]
    }
   ],
   "source": [
    "x12 = np.ones(3)\n",
    "print(x12)"
   ]
  },
  {
   "cell_type": "code",
   "execution_count": 34,
   "metadata": {},
   "outputs": [
    {
     "name": "stdout",
     "output_type": "stream",
     "text": [
      "[[0. 0. 0.]\n",
      " [0. 0. 0.]]\n"
     ]
    }
   ],
   "source": [
    "x13 = np.zeros((2,3))\n",
    "print(x13)"
   ]
  },
  {
   "cell_type": "code",
   "execution_count": 45,
   "metadata": {},
   "outputs": [
    {
     "name": "stdout",
     "output_type": "stream",
     "text": [
      "[[6. 6. 6.]\n",
      " [6. 6. 6.]]\n"
     ]
    }
   ],
   "source": [
    "x14 = 3*(x13 + 2)\n",
    "print(x14)"
   ]
  },
  {
   "cell_type": "code",
   "execution_count": 46,
   "metadata": {},
   "outputs": [
    {
     "name": "stdout",
     "output_type": "stream",
     "text": [
      "49358\n"
     ]
    }
   ],
   "source": [
    "x15 = np.array([1,23,2,231,2])\n",
    "x16 = np.array([2,3,21,213,21])\n",
    "print(np.dot(x15,x16))"
   ]
  },
  {
   "cell_type": "code",
   "execution_count": 57,
   "metadata": {},
   "outputs": [],
   "source": [
    "x17 = np.random.random_sample((3,3))"
   ]
  },
  {
   "cell_type": "code",
   "execution_count": 58,
   "metadata": {},
   "outputs": [
    {
     "name": "stdout",
     "output_type": "stream",
     "text": [
      "[[0.43212112 0.4857402  0.72822669]\n",
      " [0.41175704 0.14589896 0.53313534]\n",
      " [0.36849429 0.35477395 0.41421308]]\n"
     ]
    }
   ],
   "source": [
    "print(x17)"
   ]
  },
  {
   "cell_type": "code",
   "execution_count": 67,
   "metadata": {},
   "outputs": [
    {
     "name": "stdout",
     "output_type": "stream",
     "text": [
      "0.4117570395645902\n",
      "[0.72822669 0.53313534 0.41421308]\n",
      "[0.41175704 0.14589896 0.53313534]\n",
      "[0.4857402  0.72822669]\n"
     ]
    }
   ],
   "source": [
    "print(x17[1,0])\n",
    "print(x17[:,2])\n",
    "print(x17[1,:])\n",
    "print(x17[0,-2:])"
   ]
  },
  {
   "cell_type": "code",
   "execution_count": 71,
   "metadata": {},
   "outputs": [
    {
     "name": "stdout",
     "output_type": "stream",
     "text": [
      "[[0.21068758 0.8808467  0.81857616]\n",
      " [0.80012869 0.2260631  0.05624981]\n",
      " [0.25867764 0.84758033 0.99552924]]\n"
     ]
    }
   ],
   "source": [
    "x18 = np.random.random_sample((3,3))\n",
    "print(x18)"
   ]
  },
  {
   "cell_type": "code",
   "execution_count": 72,
   "metadata": {},
   "outputs": [],
   "source": [
    "x19 = x17 @ x18 # Matrix Multiplication"
   ]
  },
  {
   "cell_type": "code",
   "execution_count": 73,
   "metadata": {},
   "outputs": [
    {
     "name": "stdout",
     "output_type": "stream",
     "text": [
      "[[0.66807318 1.10767102 1.10601781]\n",
      " [0.34140023 0.84755223 0.87601311]\n",
      " [0.46864965 0.75586714 0.73395784]]\n"
     ]
    }
   ],
   "source": [
    "print(x19)"
   ]
  },
  {
   "cell_type": "code",
   "execution_count": 74,
   "metadata": {},
   "outputs": [],
   "source": [
    "x20 = np.array([[3,5,12],\n",
    "                [4,65,23],\n",
    "                [123,2,0]])\n",
    "x21 = x20 + 3"
   ]
  },
  {
   "cell_type": "code",
   "execution_count": 75,
   "metadata": {},
   "outputs": [
    {
     "name": "stdout",
     "output_type": "stream",
     "text": [
      "[[  6   8  15]\n",
      " [  7  68  26]\n",
      " [126   5   3]]\n"
     ]
    }
   ],
   "source": [
    "print(x21)"
   ]
  },
  {
   "cell_type": "code",
   "execution_count": 76,
   "metadata": {},
   "outputs": [],
   "source": [
    "x22 = np.linalg.inv(x21)"
   ]
  },
  {
   "cell_type": "code",
   "execution_count": 77,
   "metadata": {},
   "outputs": [
    {
     "name": "stdout",
     "output_type": "stream",
     "text": [
      "[[-0.00072899 -0.00050241  0.00799913]\n",
      " [-0.03206549  0.01844135  0.00050241]\n",
      " [ 0.08405986 -0.00963442 -0.0034676 ]]\n"
     ]
    }
   ],
   "source": [
    "print(x22)"
   ]
  },
  {
   "cell_type": "code",
   "execution_count": 78,
   "metadata": {},
   "outputs": [],
   "source": [
    "eig_val,eig_vect = np.linalg.eig(x22)"
   ]
  },
  {
   "cell_type": "code",
   "execution_count": 80,
   "metadata": {},
   "outputs": [
    {
     "name": "stdout",
     "output_type": "stream",
     "text": [
      "[[ 0.28715537  0.21357072  0.172003  ]\n",
      " [ 0.21239772 -0.63015725  0.92246934]\n",
      " [-0.93403908  0.74651818  0.3456375 ]]\n",
      "[-0.02711962  0.0287137   0.01265069]\n"
     ]
    }
   ],
   "source": [
    "print(eig_vect)\n",
    "print(eig_val)"
   ]
  },
  {
   "cell_type": "code",
   "execution_count": 83,
   "metadata": {},
   "outputs": [],
   "source": [
    "x23 = np.array([[1,2,3],\n",
    "                [4,5,6]])\n",
    "x24 = x23.reshape(3,-1)"
   ]
  },
  {
   "cell_type": "code",
   "execution_count": 84,
   "metadata": {},
   "outputs": [
    {
     "name": "stdout",
     "output_type": "stream",
     "text": [
      "[[1 2]\n",
      " [3 4]\n",
      " [5 6]]\n"
     ]
    }
   ],
   "source": [
    "print(x24)"
   ]
  },
  {
   "cell_type": "code",
   "execution_count": 85,
   "metadata": {},
   "outputs": [],
   "source": [
    "x25 = x23.T"
   ]
  },
  {
   "cell_type": "code",
   "execution_count": 86,
   "metadata": {},
   "outputs": [
    {
     "name": "stdout",
     "output_type": "stream",
     "text": [
      "[[1 4]\n",
      " [2 5]\n",
      " [3 6]]\n"
     ]
    }
   ],
   "source": [
    "print(x25)"
   ]
  }
 ],
 "metadata": {
  "kernelspec": {
   "display_name": "Python 3",
   "language": "python",
   "name": "python3"
  },
  "language_info": {
   "codemirror_mode": {
    "name": "ipython",
    "version": 3
   },
   "file_extension": ".py",
   "mimetype": "text/x-python",
   "name": "python",
   "nbconvert_exporter": "python",
   "pygments_lexer": "ipython3",
   "version": "3.10.6"
  },
  "orig_nbformat": 4
 },
 "nbformat": 4,
 "nbformat_minor": 2
}
