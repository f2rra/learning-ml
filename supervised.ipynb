{
 "cells": [
  {
   "cell_type": "markdown",
   "metadata": {},
   "source": [
    "# Supervised Learning Algorithm"
   ]
  },
  {
   "attachments": {},
   "cell_type": "markdown",
   "metadata": {},
   "source": [
    "## 1. Linier Regression"
   ]
  },
  {
   "attachments": {},
   "cell_type": "markdown",
   "metadata": {},
   "source": [
    "Mengimport packages yang dibutuhkan:"
   ]
  },
  {
   "cell_type": "code",
   "execution_count": 1,
   "metadata": {},
   "outputs": [],
   "source": [
    "import numpy as np"
   ]
  },
  {
   "attachments": {},
   "cell_type": "markdown",
   "metadata": {},
   "source": [
    "Membuat fungsi $f_{w,b}(x) = w.x + b$ "
   ]
  },
  {
   "cell_type": "code",
   "execution_count": 2,
   "metadata": {},
   "outputs": [],
   "source": [
    "# membuat fungsi f_wb\n",
    "def f_wb(x,w,b):\n",
    "    f_wb = np.dot(x,w) + b\n",
    "    return f_wb"
   ]
  },
  {
   "attachments": {},
   "cell_type": "markdown",
   "metadata": {},
   "source": [
    "Membuat cost function $J(w,b) = 1/2m \\sum{(w.x + b - y)^2}$"
   ]
  },
  {
   "cell_type": "code",
   "execution_count": 3,
   "metadata": {},
   "outputs": [],
   "source": [
    "def j_wb(x,y,w,b):\n",
    "    m = y.shape[0]\n",
    "    fwb = f_wb(x,w,b)\n",
    "    j = np.round(1/(2*m) * np.sum((fwb - y)**2),5)\n",
    "    return j"
   ]
  },
  {
   "attachments": {},
   "cell_type": "markdown",
   "metadata": {},
   "source": [
    "Contoh #1"
   ]
  },
  {
   "cell_type": "code",
   "execution_count": 4,
   "metadata": {},
   "outputs": [
    {
     "name": "stdout",
     "output_type": "stream",
     "text": [
      "y: [16 32 51] | f_wb: [15. 33. 51.] | j_wb: 0.33333\n"
     ]
    }
   ],
   "source": [
    "# Contoh 1\n",
    "x = np.array([[1,2,3],\n",
    "              [4,5,6],\n",
    "              [7,8,9]])\n",
    "y = np.array([16,32,51])\n",
    "w_init = np.ones(x.shape[1])*2\n",
    "b_init = 3\n",
    "fwb = f_wb(x,w_init,b_init)\n",
    "jwb = j_wb(x,y,w_init,b_init)\n",
    "print(f'y: {y} | f_wb: {fwb} | j_wb: {jwb}')"
   ]
  },
  {
   "attachments": {},
   "cell_type": "markdown",
   "metadata": {},
   "source": [
    "Gradient Descent untuk mencari nilai minimum J"
   ]
  },
  {
   "cell_type": "code",
   "execution_count": 5,
   "metadata": {},
   "outputs": [],
   "source": [
    "def graddesc(x,y,w,b,alpha=1e-5,num_iteration=1000):\n",
    "    m = y.shape[0]\n",
    "    fwb = f_wb(x,w,b)\n",
    "    jwb = j_wb(x,y,w,b)\n",
    "    for _ in range(num_iteration):\n",
    "        djdw = 1/m * np.dot((fwb - y),x)\n",
    "        djdb = 1/m * np.sum(fwb - y)\n",
    "        w = w - alpha*djdw\n",
    "        b = b - alpha*djdb\n",
    "        fwb = f_wb(x,w,b)\n",
    "        jwb = j_wb(x,y,w,b)\n",
    "    return w,b,fwb,jwb"
   ]
  },
  {
   "cell_type": "code",
   "execution_count": 6,
   "metadata": {},
   "outputs": [],
   "source": [
    "w,b,fwb,jwb = graddesc(x,y,w_init,b_init,2e-2,10000)"
   ]
  },
  {
   "cell_type": "code",
   "execution_count": 7,
   "metadata": {},
   "outputs": [
    {
     "name": "stdout",
     "output_type": "stream",
     "text": [
      "[1.66666667 1.94444444 2.22222222]\n",
      "3.2777777777777657\n",
      "[15.5 33.  50.5]\n",
      "[16 32 51]\n",
      "0.25\n"
     ]
    }
   ],
   "source": [
    "print(w)\n",
    "print(b)\n",
    "print(fwb)\n",
    "print(y)\n",
    "print(jwb)"
   ]
  },
  {
   "attachments": {},
   "cell_type": "markdown",
   "metadata": {},
   "source": [
    "Contoh 2"
   ]
  },
  {
   "cell_type": "code",
   "execution_count": null,
   "metadata": {},
   "outputs": [],
   "source": []
  }
 ],
 "metadata": {
  "kernelspec": {
   "display_name": "Python 3",
   "language": "python",
   "name": "python3"
  },
  "language_info": {
   "codemirror_mode": {
    "name": "ipython",
    "version": 3
   },
   "file_extension": ".py",
   "mimetype": "text/x-python",
   "name": "python",
   "nbconvert_exporter": "python",
   "pygments_lexer": "ipython3",
   "version": "3.10.6"
  },
  "orig_nbformat": 4
 },
 "nbformat": 4,
 "nbformat_minor": 2
}
