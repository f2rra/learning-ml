{
 "cells": [
  {
   "cell_type": "markdown",
   "metadata": {},
   "source": [
    "# Supervised Learning Algorithm"
   ]
  },
  {
   "attachments": {},
   "cell_type": "markdown",
   "metadata": {},
   "source": [
    "## 1. Linier Regression"
   ]
  },
  {
   "attachments": {},
   "cell_type": "markdown",
   "metadata": {},
   "source": [
    "Mengimport packages yang dibutuhkan:"
   ]
  },
  {
   "cell_type": "code",
   "execution_count": 1,
   "metadata": {},
   "outputs": [],
   "source": [
    "import numpy as np"
   ]
  },
  {
   "attachments": {},
   "cell_type": "markdown",
   "metadata": {},
   "source": [
    "Membuat fungsi $f_{w,b}(x) = w.x + b$ "
   ]
  },
  {
   "cell_type": "code",
   "execution_count": 2,
   "metadata": {},
   "outputs": [],
   "source": [
    "# membuat fungsi f_wb\n",
    "def f_wb(x,w,b):\n",
    "    f_wb = np.dot(x,w) + b\n",
    "    return f_wb"
   ]
  },
  {
   "attachments": {},
   "cell_type": "markdown",
   "metadata": {},
   "source": [
    "Membuat cost function $J(w,b) = 1/2m \\sum{(w.x + b - y)^2}$"
   ]
  },
  {
   "cell_type": "code",
   "execution_count": 3,
   "metadata": {},
   "outputs": [],
   "source": [
    "def j_wb(x,y,w,b):\n",
    "    m = y.shape[0]\n",
    "    fwb = f_wb(x,w,b)\n",
    "    j = np.round(1/(2*m) * np.sum((fwb - y)**2),5)\n",
    "    return j"
   ]
  },
  {
   "attachments": {},
   "cell_type": "markdown",
   "metadata": {},
   "source": [
    "Contoh #1"
   ]
  },
  {
   "cell_type": "code",
   "execution_count": 4,
   "metadata": {},
   "outputs": [
    {
     "name": "stdout",
     "output_type": "stream",
     "text": [
      "y: [16 32 51] | f_wb: [15. 33. 51.] | j_wb: 0.33333\n"
     ]
    }
   ],
   "source": [
    "# Contoh 1\n",
    "# Menyiapkan Dataset\n",
    "x1 = np.array([[1,2,3],\n",
    "              [4,5,6],\n",
    "              [7,8,9]])\n",
    "y1 = np.array([16,32,51])\n",
    "\n",
    "# Menginisiasi nilai parameter w dan b\n",
    "w_init = np.ones(x1.shape[1])*2\n",
    "b_init = 3\n",
    "\n",
    "# Menghitung fungsi f dan j\n",
    "fwb = f_wb(x1,w_init,b_init)\n",
    "jwb = j_wb(x1,y1,w_init,b_init)\n",
    "\n",
    "print(f'y: {y1} | f_wb: {fwb} | j_wb: {jwb}')"
   ]
  },
  {
   "attachments": {},
   "cell_type": "markdown",
   "metadata": {},
   "source": [
    "Gradient Descent untuk mencari nilai minimum J"
   ]
  },
  {
   "cell_type": "code",
   "execution_count": 5,
   "metadata": {},
   "outputs": [],
   "source": [
    "def graddesc(x,y,w,b,alpha=1e-5,num_iteration=1000):\n",
    "    m = y.shape[0]\n",
    "    fwb = f_wb(x,w,b)\n",
    "    jwb = j_wb(x,y,w,b)\n",
    "    for _ in range(num_iteration):\n",
    "        djdw = 1/m * np.dot((fwb - y),x)\n",
    "        djdb = 1/m * np.sum(fwb - y)\n",
    "        w = w - alpha*djdw\n",
    "        b = b - alpha*djdb\n",
    "        fwb = f_wb(x,w,b)\n",
    "        jwb = j_wb(x,y,w,b)\n",
    "    return w,b,fwb,jwb"
   ]
  },
  {
   "cell_type": "code",
   "execution_count": 6,
   "metadata": {},
   "outputs": [],
   "source": [
    "w,b,fwb,jwb = graddesc(x1,y1,w_init,b_init,2e-2,10000)"
   ]
  },
  {
   "cell_type": "code",
   "execution_count": 7,
   "metadata": {},
   "outputs": [
    {
     "name": "stdout",
     "output_type": "stream",
     "text": [
      "[1.66666667 1.94444444 2.22222222]\n",
      "3.2777777777777657\n",
      "[15.5 33.  50.5]\n",
      "[16 32 51]\n",
      "0.25\n"
     ]
    }
   ],
   "source": [
    "print(w)\n",
    "print(b)\n",
    "print(fwb)\n",
    "print(y1)\n",
    "print(jwb)"
   ]
  },
  {
   "attachments": {},
   "cell_type": "markdown",
   "metadata": {},
   "source": [
    "Contoh 2"
   ]
  },
  {
   "cell_type": "code",
   "execution_count": 8,
   "metadata": {},
   "outputs": [
    {
     "name": "stdout",
     "output_type": "stream",
     "text": [
      "[592. 780. 910. 765. 854.]\n",
      "[[587.   5.]\n",
      " [779.   1.]\n",
      " [905.   5.]\n",
      " [762.   3.]\n",
      " [850.   4.]]\n",
      "(5, 2)\n",
      "[200 900 150 190 210]\n",
      "(5,)\n",
      "149102.5\n"
     ]
    }
   ],
   "source": [
    "# Contoh 2\n",
    "\n",
    "# Menyiapkan dataset\n",
    "x2 = np.array((np.random.randint(500,1000,5),np.random.randint(1,6,5)),dtype=float).T\n",
    "y2 = np.array([200,900,150,190,210])\n",
    "\n",
    "# Inisiasi w dan b\n",
    "w_init = np.ones(x2.shape[1])\n",
    "b_init = 0\n",
    "\n",
    "# Menghitung fwb dan jwb\n",
    "fwb = f_wb(x2,w_init,b_init)\n",
    "jwb = j_wb(x2,y2,w_init,b_init)\n",
    "\n",
    "print(fwb)\n",
    "print(x2)\n",
    "print(x2.shape)\n",
    "print(y2)\n",
    "print(y2.shape)\n",
    "print(jwb)"
   ]
  },
  {
   "cell_type": "code",
   "execution_count": 9,
   "metadata": {},
   "outputs": [
    {
     "data": {
      "text/plain": [
       "array([776.6,   3.6])"
      ]
     },
     "execution_count": 9,
     "metadata": {},
     "output_type": "execute_result"
    }
   ],
   "source": [
    "mean = np.mean(x2,axis=0)\n",
    "mean"
   ]
  },
  {
   "cell_type": "code",
   "execution_count": 10,
   "metadata": {},
   "outputs": [
    {
     "name": "stdout",
     "output_type": "stream",
     "text": [
      "[5. 1. 5. 3. 4.] - 3.6 = [ 0.35 -0.65  0.35 -0.15  0.1 ]\n"
     ]
    }
   ],
   "source": [
    "max = np.max(x2[:,1])\n",
    "min = np.min(x2[:,1])\n",
    "selisih = max - min\n",
    "print(f'{x2[:,1]} - {mean[1]} = {(x2[:,1]-mean[1])/selisih}')"
   ]
  },
  {
   "attachments": {},
   "cell_type": "markdown",
   "metadata": {},
   "source": [
    "Menggunakan feature scaling"
   ]
  },
  {
   "cell_type": "code",
   "execution_count": 11,
   "metadata": {},
   "outputs": [],
   "source": [
    "# Mean Normalization\n",
    "def mean_normalize(x):\n",
    "    mean = np.mean(x,axis=0)\n",
    "    x_cop = np.copy(x)\n",
    "    try:\n",
    "        m,n = x_cop.shape\n",
    "        for i in range(n):\n",
    "            max = np.max(x_cop[:,i])\n",
    "            min = np.min(x_cop[:,i])\n",
    "            x_cop[:,i] = (x_cop[:,i] - mean[i])/(max-min)\n",
    "    except:\n",
    "        max = np.max(x)\n",
    "        max = np.min(x)\n",
    "        x_cop = (x_cop - mean) / (max - min)\n",
    "\n",
    "    return x_cop\n",
    "\n"
   ]
  },
  {
   "cell_type": "code",
   "execution_count": 12,
   "metadata": {},
   "outputs": [],
   "source": [
    "x2_norm = mean_normalize(x2)"
   ]
  },
  {
   "cell_type": "code",
   "execution_count": 13,
   "metadata": {},
   "outputs": [
    {
     "name": "stdout",
     "output_type": "stream",
     "text": [
      "[[587.   5.]\n",
      " [779.   1.]\n",
      " [905.   5.]\n",
      " [762.   3.]\n",
      " [850.   4.]]\n"
     ]
    }
   ],
   "source": [
    "# print(x2_norm)\n",
    "print(x2)"
   ]
  },
  {
   "cell_type": "code",
   "execution_count": 14,
   "metadata": {},
   "outputs": [],
   "source": [
    "def z_normalized(x):\n",
    "    mean = np.mean(x,axis=0)\n",
    "    mu = np.std(x,axis=0)\n",
    "    x_cop = np.copy(x)\n",
    "    try:\n",
    "        n = x.shape[1]\n",
    "        for i in range(n):\n",
    "            x_cop[:,i] = (x_cop[:,i] - mean[i])/ mu[i]\n",
    "    except:\n",
    "        x_cop = (x_cop - mean) / mu\n",
    "    return x_cop"
   ]
  },
  {
   "cell_type": "code",
   "execution_count": 15,
   "metadata": {},
   "outputs": [],
   "source": [
    "z_x2 = z_normalized(x2)"
   ]
  },
  {
   "cell_type": "code",
   "execution_count": 16,
   "metadata": {},
   "outputs": [
    {
     "name": "stdout",
     "output_type": "stream",
     "text": [
      "[[-1.7597669   0.93541435]\n",
      " [ 0.02227553 -1.73719807]\n",
      " [ 1.19174087  0.93541435]\n",
      " [-0.13550948 -0.40089186]\n",
      " [ 0.68125997  0.26726124]]\n",
      "[[-0.59622642  0.35      ]\n",
      " [ 0.00754717 -0.65      ]\n",
      " [ 0.40377358  0.35      ]\n",
      " [-0.04591195 -0.15      ]\n",
      " [ 0.23081761  0.1       ]]\n",
      "[[587.   5.]\n",
      " [779.   1.]\n",
      " [905.   5.]\n",
      " [762.   3.]\n",
      " [850.   4.]]\n"
     ]
    }
   ],
   "source": [
    "print(z_x2)\n",
    "print(x2_norm)\n",
    "print(x2)"
   ]
  },
  {
   "cell_type": "code",
   "execution_count": 17,
   "metadata": {},
   "outputs": [],
   "source": [
    "import matplotlib.pyplot as plt\n",
    "%matplotlib inline"
   ]
  },
  {
   "cell_type": "code",
   "execution_count": 21,
   "metadata": {},
   "outputs": [
    {
     "data": {
      "image/png": "[encoded data removed]",
      "text/plain": [
       "<Figure size 640x480 with 1 Axes>"
      ]
     },
     "metadata": {},
     "output_type": "display_data"
    }
   ],
   "source": [
    "# plt.scatter(x2[:,1],x2[:,0],label='Unnormalized',color='r')\n",
    "plt.scatter(x2_norm[:,1],x2_norm[:,0],label='Mean Normalized',color='g')\n",
    "plt.scatter(z_x2[:,1],z_x2[:,0],label='Z-score Normalized',color='cyan')\n",
    "plt.legend()\n",
    "plt.show()"
   ]
  },
  {
   "cell_type": "code",
   "execution_count": 77,
   "metadata": {},
   "outputs": [
    {
     "name": "stdout",
     "output_type": "stream",
     "text": [
      "Error\n",
      "40539.86666\n",
      "8975.27917\n",
      "\n",
      "Data Asli dan Prediksi\n",
      "[200 900 150 190 210]\n",
      "[592. 780. 910. 765. 854.]\n",
      "[179.31011666 265.1035942  177.55040241 221.76969372 199.56874214]\n",
      "[135.79744641 768.6793826   64.85506523 434.61436383 246.05374192]\n",
      "\n",
      "Parameter w\n",
      "[1. 1.]\n",
      "[ -1.75971425 -86.85594652]\n",
      "[ -24.03597982 -252.82942905]\n"
     ]
    }
   ],
   "source": [
    "w2,b3,fwb2,jwb2 = graddesc(x2_norm,y2,w_init,b_init,1e-3)\n",
    "w3,b3,fwb3,jwb3 = graddesc(z_x2,y2,w_init,b_init,1)\n",
    "\n",
    "print(\"Error\")\n",
    "print(jwb2)\n",
    "print(jwb3)\n",
    "print()\n",
    "print(\"Data Asli dan Prediksi\")\n",
    "print(y2)\n",
    "print(fwb)\n",
    "print(fwb2)\n",
    "print(fwb3)\n",
    "print()\n",
    "print(\"Parameter w\")\n",
    "print(w_init)\n",
    "print(w2)\n",
    "print(w3)"
   ]
  },
  {
   "attachments": {},
   "cell_type": "markdown",
   "metadata": {},
   "source": [
    "Menggunakan Scikit-Learn"
   ]
  },
  {
   "cell_type": "code",
   "execution_count": 55,
   "metadata": {},
   "outputs": [],
   "source": [
    "from sklearn.linear_model import SGDRegressor\n",
    "from sklearn.preprocessing import StandardScaler"
   ]
  },
  {
   "cell_type": "code",
   "execution_count": 57,
   "metadata": {},
   "outputs": [
    {
     "name": "stdout",
     "output_type": "stream",
     "text": [
      "Peak to Peak range by column in Raw        X:[318.   4.]\n",
      "Peak to Peak range by column in Normalized X:[2.95150777 2.67261242]\n",
      "Peak to Peak range by column in Normalized Tanpa Scikit-Learn X:[1. 1.]\n"
     ]
    }
   ],
   "source": [
    "# Scale/Normalize Training Data\n",
    "scaler = StandardScaler()\n",
    "X2_norm = scaler.fit_transform(x2)\n",
    "print(f\"Peak to Peak range by column in Raw        X:{np.ptp(x2,axis=0)}\")   \n",
    "print(f\"Peak to Peak range by column in Normalized X:{np.ptp(X2_norm,axis=0)}\")\n",
    "print(f\"Peak to Peak range by column in Normalized Tanpa Scikit-Learn X:{np.ptp(x2_norm,axis=0)}\")"
   ]
  },
  {
   "cell_type": "code",
   "execution_count": 84,
   "metadata": {},
   "outputs": [
    {
     "name": "stdout",
     "output_type": "stream",
     "text": [
      "SGDRegressor()\n",
      "number of iterations completed: 1000, number of weight updates: 5001.0\n"
     ]
    },
    {
     "name": "stderr",
     "output_type": "stream",
     "text": [
      "/usr/local/lib/python3.10/dist-packages/sklearn/linear_model/_stochastic_gradient.py:1551: ConvergenceWarning: Maximum number of iteration reached before convergence. Consider increasing max_iter to improve the fit.\n",
      "  warnings.warn(\n"
     ]
    }
   ],
   "source": [
    "# Membuat dan fit regresssion model\n",
    "sgdr = SGDRegressor(max_iter=1000)\n",
    "sgdr.fit(X2_norm, y2)\n",
    "print(sgdr)\n",
    "print(f\"number of iterations completed: {sgdr.n_iter_}, number of weight updates: {sgdr.t_}\")\n"
   ]
  },
  {
   "cell_type": "code",
   "execution_count": 85,
   "metadata": {},
   "outputs": [
    {
     "name": "stdout",
     "output_type": "stream",
     "text": [
      "model parameters:                   w: [ -24.00870455 -252.73546101], b:[329.96993351]\n"
     ]
    }
   ],
   "source": [
    "b_norm = sgdr.intercept_\n",
    "w_norm = sgdr.coef_\n",
    "print(f\"model parameters:                   w: {w_norm}, b:{b_norm}\")"
   ]
  },
  {
   "cell_type": "code",
   "execution_count": 86,
   "metadata": {},
   "outputs": [
    {
     "name": "stdout",
     "output_type": "stream",
     "text": [
      "prediction using np.dot() and sgdr.predict match: True\n",
      "Prediction on training set:\n",
      "[135.80728085 768.4866826   64.94540285 434.54293027]\n",
      "Target values \n",
      "[200 900 150 190]\n"
     ]
    }
   ],
   "source": [
    "# make a prediction using sgdr.predict()\n",
    "y_pred_sgd = sgdr.predict(X2_norm)\n",
    "# make a prediction using w,b. \n",
    "y_pred = np.dot(X2_norm, w_norm) + b_norm  \n",
    "print(f\"prediction using np.dot() and sgdr.predict match: {(y_pred == y_pred_sgd).all()}\")\n",
    "\n",
    "print(f\"Prediction on training set:\\n{y_pred[:4]}\" )\n",
    "print(f\"Target values \\n{y2[:4]}\")"
   ]
  },
  {
   "cell_type": "code",
   "execution_count": 87,
   "metadata": {},
   "outputs": [
    {
     "data": {
      "image/png": "[encoded data removed]",
      "text/plain": [
       "<Figure size 1200x300 with 2 Axes>"
      ]
     },
     "metadata": {},
     "output_type": "display_data"
    }
   ],
   "source": [
    "# plot predictions and targets vs original features    \n",
    "fig,ax=plt.subplots(1,2,figsize=(12,3),sharey=True)\n",
    "for i in range(len(ax)):\n",
    "    ax[i].scatter(x2[:,i],y2, label = 'target')\n",
    "    ax[i].scatter(x2[:,i],y_pred,color='orange', label = 'predict')\n",
    "ax[0].set_ylabel(\"y\"); ax[0].legend();\n",
    "fig.suptitle(\"target versus prediction using z-score normalized model\")\n",
    "plt.show()"
   ]
  },
  {
   "cell_type": "code",
   "execution_count": 78,
   "metadata": {},
   "outputs": [],
   "source": [
    "my_ypred = np.dot(z_x2,w3) + b3"
   ]
  },
  {
   "cell_type": "code",
   "execution_count": 79,
   "metadata": {},
   "outputs": [
    {
     "data": {
      "image/png": "[encoded data removed]",
      "text/plain": [
       "<Figure size 1200x300 with 2 Axes>"
      ]
     },
     "metadata": {},
     "output_type": "display_data"
    }
   ],
   "source": [
    "# plot predictions and targets vs original features    \n",
    "fig,ax=plt.subplots(1,2,figsize=(12,3),sharey=True)\n",
    "for i in range(len(ax)):\n",
    "    ax[i].scatter(x2[:,i],y2, label = 'target')\n",
    "    ax[i].scatter(x2[:,i],my_ypred,color='orange', label = 'predict')\n",
    "ax[0].set_ylabel(\"y\"); ax[0].legend();\n",
    "fig.suptitle(\"target versus prediction using z-score normalized model without scikit-learn\")\n",
    "plt.show()"
   ]
  },
  {
   "cell_type": "code",
   "execution_count": 88,
   "metadata": {},
   "outputs": [],
   "source": [
    "error1 = j_wb(X2_norm,y2,w_norm,b_norm)\n",
    "error2 = j_wb(z_x2,y2,w3,b3)"
   ]
  },
  {
   "cell_type": "code",
   "execution_count": 90,
   "metadata": {},
   "outputs": [
    {
     "name": "stdout",
     "output_type": "stream",
     "text": [
      "8975.28423\n",
      "8975.27917\n",
      "[ -24.03597982 -252.82942905]\n",
      "[ -24.00870455 -252.73546101]\n"
     ]
    }
   ],
   "source": [
    "print(error1)\n",
    "print(error2)\n",
    "\n",
    "print(w3)\n",
    "print(w_norm)"
   ]
  },
  {
   "cell_type": "code",
   "execution_count": null,
   "metadata": {},
   "outputs": [],
   "source": []
  }
 ],
 "metadata": {
  "kernelspec": {
   "display_name": "Python 3",
   "language": "python",
   "name": "python3"
  },
  "language_info": {
   "codemirror_mode": {
    "name": "ipython",
    "version": 3
   },
   "file_extension": ".py",
   "mimetype": "text/x-python",
   "name": "python",
   "nbconvert_exporter": "python",
   "pygments_lexer": "ipython3",
   "version": "3.10.6"
  },
  "orig_nbformat": 4
 },
 "nbformat": 4,
 "nbformat_minor": 2
}
