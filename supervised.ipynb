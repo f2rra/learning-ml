{
 "cells": [
  {
   "cell_type": "markdown",
   "metadata": {},
   "source": [
    "# Supervised Learning Algorithm"
   ]
  },
  {
   "attachments": {},
   "cell_type": "markdown",
   "metadata": {},
   "source": [
    "## 1. Linier Regression"
   ]
  },
  {
   "attachments": {},
   "cell_type": "markdown",
   "metadata": {},
   "source": [
    "Mengimport packages yang dibutuhkan:"
   ]
  },
  {
   "cell_type": "code",
   "execution_count": 2,
   "metadata": {},
   "outputs": [],
   "source": [
    "import numpy as np"
   ]
  },
  {
   "attachments": {},
   "cell_type": "markdown",
   "metadata": {},
   "source": [
    "Membuat fungsi $f_{w,b}(x) = w.x + b$ "
   ]
  },
  {
   "cell_type": "code",
   "execution_count": null,
   "metadata": {},
   "outputs": [],
   "source": [
    "# membuat fungsi f_wb\n",
    "def f_wb(x,w,b):\n",
    "    f_wb = np.dot(x,w) + b\n",
    "    return f_wb"
   ]
  },
  {
   "attachments": {},
   "cell_type": "markdown",
   "metadata": {},
   "source": [
    "Membuat cost function $J(w,b) = 1/2m \\sum{(w.x + b - y)^2}$"
   ]
  },
  {
   "cell_type": "code",
   "execution_count": null,
   "metadata": {},
   "outputs": [],
   "source": [
    "def j_wb(x,y,w,b):\n",
    "    m = y.shape[0]\n",
    "    fwb = f_wb(x,w,b)\n",
    "    j = np.round(1/(2*m) * np.sum((fwb - y)**2),5)\n",
    "    return j"
   ]
  },
  {
   "attachments": {},
   "cell_type": "markdown",
   "metadata": {},
   "source": [
    "Contoh #1"
   ]
  },
  {
   "cell_type": "code",
   "execution_count": null,
   "metadata": {},
   "outputs": [],
   "source": [
    "# Contoh 1\n",
    "# Menyiapkan Dataset\n",
    "x1 = np.array([[1,2,3],\n",
    "              [4,5,6],\n",
    "              [7,8,9]])\n",
    "y1 = np.array([16,32,51])\n",
    "\n",
    "# Menginisiasi nilai parameter w dan b\n",
    "w_init = np.ones(x1.shape[1])*2\n",
    "b_init = 3\n",
    "\n",
    "# Menghitung fungsi f dan j\n",
    "fwb = f_wb(x1,w_init,b_init)\n",
    "jwb = j_wb(x1,y1,w_init,b_init)\n",
    "\n",
    "print(f'y: {y1} | f_wb: {fwb} | j_wb: {jwb}')"
   ]
  },
  {
   "attachments": {},
   "cell_type": "markdown",
   "metadata": {},
   "source": [
    "Gradient Descent untuk mencari nilai minimum J"
   ]
  },
  {
   "cell_type": "code",
   "execution_count": null,
   "metadata": {},
   "outputs": [],
   "source": [
    "def graddesc(x,y,w,b,alpha=1e-5,num_iteration=1000):\n",
    "    m = y.shape[0]\n",
    "    fwb = f_wb(x,w,b)\n",
    "    jwb = j_wb(x,y,w,b)\n",
    "    for _ in range(num_iteration):\n",
    "        djdw = 1/m * np.dot((fwb - y),x)\n",
    "        djdb = 1/m * np.sum(fwb - y)\n",
    "        w = w - alpha*djdw\n",
    "        b = b - alpha*djdb\n",
    "        fwb = f_wb(x,w,b)\n",
    "        jwb = j_wb(x,y,w,b)\n",
    "    return w,b,fwb,jwb"
   ]
  },
  {
   "cell_type": "code",
   "execution_count": null,
   "metadata": {},
   "outputs": [],
   "source": [
    "w,b,fwb,jwb = graddesc(x1,y1,w_init,b_init,2e-2,10000)"
   ]
  },
  {
   "cell_type": "code",
   "execution_count": null,
   "metadata": {},
   "outputs": [],
   "source": [
    "print(w)\n",
    "print(b)\n",
    "print(fwb)\n",
    "print(y1)\n",
    "print(jwb)"
   ]
  },
  {
   "attachments": {},
   "cell_type": "markdown",
   "metadata": {},
   "source": [
    "Contoh 2"
   ]
  },
  {
   "cell_type": "code",
   "execution_count": null,
   "metadata": {},
   "outputs": [],
   "source": [
    "# Contoh 2\n",
    "\n",
    "# Menyiapkan dataset\n",
    "x2 = np.array((np.random.randint(500,1000,5),np.random.randint(1,6,5)),dtype=float).T\n",
    "y2 = np.array([200,900,150,190,210])\n",
    "\n",
    "# Inisiasi w dan b\n",
    "w_init = np.ones(x2.shape[1])\n",
    "b_init = 0\n",
    "\n",
    "# Menghitung fwb dan jwb\n",
    "fwb = f_wb(x2,w_init,b_init)\n",
    "jwb = j_wb(x2,y2,w_init,b_init)\n",
    "\n",
    "print(fwb)\n",
    "print(x2)\n",
    "print(x2.shape)\n",
    "print(y2)\n",
    "print(y2.shape)\n",
    "print(jwb)"
   ]
  },
  {
   "cell_type": "code",
   "execution_count": null,
   "metadata": {},
   "outputs": [],
   "source": [
    "mean = np.mean(x2,axis=0)\n",
    "mean"
   ]
  },
  {
   "cell_type": "code",
   "execution_count": null,
   "metadata": {},
   "outputs": [],
   "source": [
    "max = np.max(x2[:,1])\n",
    "min = np.min(x2[:,1])\n",
    "selisih = max - min\n",
    "print(f'{x2[:,1]} - {mean[1]} = {(x2[:,1]-mean[1])/selisih}')"
   ]
  },
  {
   "attachments": {},
   "cell_type": "markdown",
   "metadata": {},
   "source": [
    "Menggunakan feature scaling"
   ]
  },
  {
   "cell_type": "code",
   "execution_count": null,
   "metadata": {},
   "outputs": [],
   "source": [
    "# Mean Normalization\n",
    "def mean_normalize(x):\n",
    "    mean = np.mean(x,axis=0)\n",
    "    x_cop = np.copy(x)\n",
    "    try:\n",
    "        m,n = x_cop.shape\n",
    "        for i in range(n):\n",
    "            max = np.max(x_cop[:,i])\n",
    "            min = np.min(x_cop[:,i])\n",
    "            x_cop[:,i] = (x_cop[:,i] - mean[i])/(max-min)\n",
    "    except:\n",
    "        max = np.max(x)\n",
    "        max = np.min(x)\n",
    "        x_cop = (x_cop - mean) / (max - min)\n",
    "\n",
    "    return x_cop\n",
    "\n"
   ]
  },
  {
   "cell_type": "code",
   "execution_count": null,
   "metadata": {},
   "outputs": [],
   "source": [
    "x2_norm = mean_normalize(x2)"
   ]
  },
  {
   "cell_type": "code",
   "execution_count": null,
   "metadata": {},
   "outputs": [],
   "source": [
    "# print(x2_norm)\n",
    "print(x2)"
   ]
  },
  {
   "cell_type": "code",
   "execution_count": null,
   "metadata": {},
   "outputs": [],
   "source": [
    "def z_normalized(x):\n",
    "    mean = np.mean(x,axis=0)\n",
    "    mu = np.std(x,axis=0)\n",
    "    x_cop = np.copy(x)\n",
    "    try:\n",
    "        n = x.shape[1]\n",
    "        for i in range(n):\n",
    "            x_cop[:,i] = (x_cop[:,i] - mean[i])/ mu[i]\n",
    "    except:\n",
    "        x_cop = (x_cop - mean) / mu\n",
    "    return x_cop"
   ]
  },
  {
   "cell_type": "code",
   "execution_count": null,
   "metadata": {},
   "outputs": [],
   "source": [
    "z_x2 = z_normalized(x2)"
   ]
  },
  {
   "cell_type": "code",
   "execution_count": null,
   "metadata": {},
   "outputs": [],
   "source": [
    "print(z_x2)\n",
    "print(x2_norm)\n",
    "print(x2)"
   ]
  },
  {
   "cell_type": "code",
   "execution_count": null,
   "metadata": {},
   "outputs": [],
   "source": [
    "import matplotlib.pyplot as plt\n",
    "%matplotlib inline"
   ]
  },
  {
   "cell_type": "code",
   "execution_count": null,
   "metadata": {},
   "outputs": [],
   "source": [
    "# plt.scatter(x2[:,1],x2[:,0],label='Unnormalized',color='r')\n",
    "plt.scatter(x2_norm[:,1],x2_norm[:,0],label='Mean Normalized',color='g')\n",
    "plt.scatter(z_x2[:,1],z_x2[:,0],label='Z-score Normalized',color='cyan')\n",
    "plt.legend()\n",
    "plt.show()"
   ]
  },
  {
   "cell_type": "code",
   "execution_count": null,
   "metadata": {},
   "outputs": [],
   "source": [
    "w2,b3,fwb2,jwb2 = graddesc(x2_norm,y2,w_init,b_init,1e-3)\n",
    "w3,b3,fwb3,jwb3 = graddesc(z_x2,y2,w_init,b_init,1)\n",
    "\n",
    "print(\"Error\")\n",
    "print(jwb2)\n",
    "print(jwb3)\n",
    "print()\n",
    "print(\"Data Asli dan Prediksi\")\n",
    "print(y2)\n",
    "print(fwb)\n",
    "print(fwb2)\n",
    "print(fwb3)\n",
    "print()\n",
    "print(\"Parameter w\")\n",
    "print(w_init)\n",
    "print(w2)\n",
    "print(w3)"
   ]
  },
  {
   "attachments": {},
   "cell_type": "markdown",
   "metadata": {},
   "source": [
    "Menggunakan Scikit-Learn"
   ]
  },
  {
   "cell_type": "code",
   "execution_count": null,
   "metadata": {},
   "outputs": [],
   "source": [
    "from sklearn.linear_model import SGDRegressor\n",
    "from sklearn.preprocessing import StandardScaler"
   ]
  },
  {
   "cell_type": "code",
   "execution_count": null,
   "metadata": {},
   "outputs": [],
   "source": [
    "# Scale/Normalize Training Data\n",
    "scaler = StandardScaler()\n",
    "X2_norm = scaler.fit_transform(x2)\n",
    "print(f\"Peak to Peak range by column in Raw        X:{np.ptp(x2,axis=0)}\")   \n",
    "print(f\"Peak to Peak range by column in Normalized X:{np.ptp(X2_norm,axis=0)}\")\n",
    "print(f\"Peak to Peak range by column in Normalized Tanpa Scikit-Learn X:{np.ptp(x2_norm,axis=0)}\")"
   ]
  },
  {
   "cell_type": "code",
   "execution_count": null,
   "metadata": {},
   "outputs": [],
   "source": [
    "# Membuat dan fit regresssion model\n",
    "sgdr = SGDRegressor(max_iter=1000)\n",
    "sgdr.fit(X2_norm, y2)\n",
    "print(sgdr)\n",
    "print(f\"number of iterations completed: {sgdr.n_iter_}, number of weight updates: {sgdr.t_}\")\n"
   ]
  },
  {
   "cell_type": "code",
   "execution_count": null,
   "metadata": {},
   "outputs": [],
   "source": [
    "b_norm = sgdr.intercept_\n",
    "w_norm = sgdr.coef_\n",
    "print(f\"model parameters:                   w: {w_norm}, b:{b_norm}\")"
   ]
  },
  {
   "cell_type": "code",
   "execution_count": null,
   "metadata": {},
   "outputs": [],
   "source": [
    "# make a prediction using sgdr.predict()\n",
    "y_pred_sgd = sgdr.predict(X2_norm)\n",
    "# make a prediction using w,b. \n",
    "y_pred = np.dot(X2_norm, w_norm) + b_norm  \n",
    "print(f\"prediction using np.dot() and sgdr.predict match: {(y_pred == y_pred_sgd).all()}\")\n",
    "\n",
    "print(f\"Prediction on training set:\\n{y_pred[:4]}\" )\n",
    "print(f\"Target values \\n{y2[:4]}\")"
   ]
  },
  {
   "cell_type": "code",
   "execution_count": null,
   "metadata": {},
   "outputs": [],
   "source": [
    "# plot predictions and targets vs original features    \n",
    "fig,ax=plt.subplots(1,2,figsize=(12,3),sharey=True)\n",
    "for i in range(len(ax)):\n",
    "    ax[i].scatter(x2[:,i],y2, label = 'target')\n",
    "    ax[i].scatter(x2[:,i],y_pred,color='orange', label = 'predict')\n",
    "ax[0].set_ylabel(\"y\"); ax[0].legend();\n",
    "fig.suptitle(\"target versus prediction using z-score normalized model\")\n",
    "plt.show()"
   ]
  },
  {
   "cell_type": "code",
   "execution_count": null,
   "metadata": {},
   "outputs": [],
   "source": [
    "my_ypred = np.dot(z_x2,w3) + b3"
   ]
  },
  {
   "cell_type": "code",
   "execution_count": null,
   "metadata": {},
   "outputs": [],
   "source": [
    "# plot predictions and targets vs original features    \n",
    "fig,ax=plt.subplots(1,2,figsize=(12,3),sharey=True)\n",
    "for i in range(len(ax)):\n",
    "    ax[i].scatter(x2[:,i],y2, label = 'target')\n",
    "    ax[i].scatter(x2[:,i],my_ypred,color='orange', label = 'predict')\n",
    "ax[0].set_ylabel(\"y\"); ax[0].legend();\n",
    "fig.suptitle(\"target versus prediction using z-score normalized model without scikit-learn\")\n",
    "plt.show()"
   ]
  },
  {
   "cell_type": "code",
   "execution_count": null,
   "metadata": {},
   "outputs": [],
   "source": [
    "error1 = j_wb(X2_norm,y2,w_norm,b_norm)\n",
    "error2 = j_wb(z_x2,y2,w3,b3)"
   ]
  },
  {
   "cell_type": "code",
   "execution_count": null,
   "metadata": {},
   "outputs": [],
   "source": [
    "print(error1)\n",
    "print(error2)\n",
    "\n",
    "print(w3)\n",
    "print(w_norm)"
   ]
  },
  {
   "attachments": {},
   "cell_type": "markdown",
   "metadata": {},
   "source": [
    "## 2. Polynomial Regression"
   ]
  },
  {
   "attachments": {},
   "cell_type": "markdown",
   "metadata": {},
   "source": [
    "Mengimport packages yang dibutuhkan"
   ]
  },
  {
   "cell_type": "code",
   "execution_count": null,
   "metadata": {},
   "outputs": [],
   "source": [
    "import numpy as np\n",
    "import matplotlib.pyplot as plt"
   ]
  },
  {
   "attachments": {},
   "cell_type": "markdown",
   "metadata": {},
   "source": [
    "Menyiapkan dataset"
   ]
  },
  {
   "cell_type": "code",
   "execution_count": null,
   "metadata": {},
   "outputs": [],
   "source": [
    "x = np.arange(0,20,1,dtype=float)\n",
    "y = x**2"
   ]
  },
  {
   "cell_type": "code",
   "execution_count": null,
   "metadata": {},
   "outputs": [],
   "source": [
    "plt.scatter(x,y,marker='x',c='r')\n",
    "plt.show()"
   ]
  },
  {
   "cell_type": "code",
   "execution_count": null,
   "metadata": {},
   "outputs": [],
   "source": [
    "# Inisiasi parameter\n",
    "try:\n",
    "    w_init = np.zeros(X.shape[1])\n",
    "except:\n",
    "    w_init = 0\n",
    "b_init = 0"
   ]
  },
  {
   "cell_type": "code",
   "execution_count": null,
   "metadata": {},
   "outputs": [],
   "source": [
    "w_init"
   ]
  },
  {
   "cell_type": "code",
   "execution_count": null,
   "metadata": {},
   "outputs": [],
   "source": [
    "# menambahkan engineered feature\n",
    "X = np.c_[x,x**2]\n",
    "X"
   ]
  },
  {
   "cell_type": "code",
   "execution_count": null,
   "metadata": {},
   "outputs": [],
   "source": [
    "z_x = z_normalized(X)\n"
   ]
  },
  {
   "cell_type": "code",
   "execution_count": null,
   "metadata": {},
   "outputs": [],
   "source": [
    "fwb = f_wb(x,0,0)\n",
    "fwb"
   ]
  },
  {
   "cell_type": "code",
   "execution_count": null,
   "metadata": {},
   "outputs": [],
   "source": [
    "jwb = j_wb(X,y,w2,b2)\n",
    "jwb"
   ]
  },
  {
   "cell_type": "code",
   "execution_count": null,
   "metadata": {},
   "outputs": [],
   "source": [
    "jwb2 = j_wb()"
   ]
  },
  {
   "cell_type": "code",
   "execution_count": null,
   "metadata": {},
   "outputs": [],
   "source": [
    "w = 0\n",
    "b = 0"
   ]
  },
  {
   "cell_type": "code",
   "execution_count": null,
   "metadata": {},
   "outputs": [],
   "source": [
    "w,b,_,_ = graddesc(z_x,y,w_init,b_init,1e-5,800)"
   ]
  },
  {
   "cell_type": "code",
   "execution_count": null,
   "metadata": {},
   "outputs": [],
   "source": [
    "w2,b2,_,_ = graddesc(X,y,w_init,b_init,1e-5,500)"
   ]
  },
  {
   "cell_type": "code",
   "execution_count": null,
   "metadata": {},
   "outputs": [],
   "source": [
    "y_pred = np.dot(X,w2)+b2\n",
    "y_pred"
   ]
  },
  {
   "cell_type": "code",
   "execution_count": null,
   "metadata": {},
   "outputs": [],
   "source": [
    "y"
   ]
  },
  {
   "cell_type": "code",
   "execution_count": null,
   "metadata": {},
   "outputs": [],
   "source": [
    "plt.scatter(np.arange(0,20,1),y,marker='x',c='r',label='actual value')\n",
    "plt.plot(np.arange(0,20,1),y_pred,c='blue',label='predicted value')\n",
    "plt.legend()\n",
    "plt.show()"
   ]
  },
  {
   "attachments": {},
   "cell_type": "markdown",
   "metadata": {},
   "source": [
    "## 3. Classification"
   ]
  },
  {
   "attachments": {},
   "cell_type": "markdown",
   "metadata": {},
   "source": [
    "Contoh 1"
   ]
  },
  {
   "cell_type": "code",
   "execution_count": 5,
   "metadata": {},
   "outputs": [],
   "source": [
    "import numpy as np\n",
    "import matplotlib.pyplot as plt"
   ]
  },
  {
   "cell_type": "markdown",
   "metadata": {},
   "source": [
    "Menyiapkan Dataset"
   ]
  },
  {
   "cell_type": "code",
   "execution_count": 7,
   "metadata": {},
   "outputs": [
    {
     "data": {
      "text/plain": [
       "array([3, 4, 6, 5, 2, 2, 8, 2, 9, 6])"
      ]
     },
     "execution_count": 7,
     "metadata": {},
     "output_type": "execute_result"
    }
   ],
   "source": [
    "x = np.random.randint(0,10,10)\n",
    "x"
   ]
  },
  {
   "cell_type": "code",
   "execution_count": 8,
   "metadata": {},
   "outputs": [
    {
     "data": {
      "text/plain": [
       "array([0, 0, 1, 0, 0, 0, 1, 0, 1, 1])"
      ]
     },
     "execution_count": 8,
     "metadata": {},
     "output_type": "execute_result"
    }
   ],
   "source": [
    "y = np.array([0,0,1,0,0,0,1,0,1,1])\n",
    "y"
   ]
  },
  {
   "attachments": {},
   "cell_type": "markdown",
   "metadata": {},
   "source": [
    "Plot Dataset"
   ]
  },
  {
   "cell_type": "code",
   "execution_count": 9,
   "metadata": {},
   "outputs": [
    {
     "data": {
      "image/png": "[encoded data removed]",
      "text/plain": [
       "<Figure size 640x480 with 1 Axes>"
      ]
     },
     "metadata": {},
     "output_type": "display_data"
    }
   ],
   "source": [
    "plt.scatter(x,y,marker='x',c='r')\n",
    "plt.show()"
   ]
  },
  {
   "attachments": {},
   "cell_type": "markdown",
   "metadata": {},
   "source": [
    "Membuat Fungsi Sigmoid"
   ]
  },
  {
   "cell_type": "code",
   "execution_count": 10,
   "metadata": {},
   "outputs": [],
   "source": [
    "def sigmoid(z):\n",
    "    sgm = 1 / (1 + np.exp(-z))\n",
    "    return sgm"
   ]
  },
  {
   "attachments": {},
   "cell_type": "markdown",
   "metadata": {},
   "source": [
    "Inisiasi parameter w dan b"
   ]
  },
  {
   "cell_type": "code",
   "execution_count": 11,
   "metadata": {},
   "outputs": [],
   "source": [
    "try:\n",
    "    w_init = np.ones(x.shape[1])\n",
    "except:\n",
    "    w_init = 1\n",
    "b_init = 0"
   ]
  },
  {
   "cell_type": "code",
   "execution_count": 12,
   "metadata": {},
   "outputs": [
    {
     "data": {
      "text/plain": [
       "1"
      ]
     },
     "execution_count": 12,
     "metadata": {},
     "output_type": "execute_result"
    }
   ],
   "source": [
    "w_init"
   ]
  },
  {
   "attachments": {},
   "cell_type": "markdown",
   "metadata": {},
   "source": [
    "Mencari nilai sigmoid dari z"
   ]
  },
  {
   "cell_type": "code",
   "execution_count": 14,
   "metadata": {},
   "outputs": [
    {
     "data": {
      "text/plain": [
       "array([3, 4, 6, 5, 2, 2, 8, 2, 9, 6])"
      ]
     },
     "execution_count": 14,
     "metadata": {},
     "output_type": "execute_result"
    }
   ],
   "source": [
    "z = np.dot(x,w_init) + b_init\n",
    "z"
   ]
  },
  {
   "cell_type": "code",
   "execution_count": 19,
   "metadata": {},
   "outputs": [],
   "source": [
    "fwb = sigmoid(z)"
   ]
  },
  {
   "attachments": {},
   "cell_type": "markdown",
   "metadata": {},
   "source": [
    "Membuat cost function J"
   ]
  },
  {
   "cell_type": "code",
   "execution_count": 22,
   "metadata": {},
   "outputs": [],
   "source": [
    "def j(x,y,w,b):\n",
    "    z = np.dot(x,w) + b\n",
    "    fwb = sigmoid(z)\n",
    "    error = np.sum(-y*np.log(fwb) - (1-y)*np.log(1-fwb))\n",
    "    return error"
   ]
  },
  {
   "cell_type": "code",
   "execution_count": 23,
   "metadata": {},
   "outputs": [
    {
     "data": {
      "text/plain": [
       "18.459646839947688"
      ]
     },
     "execution_count": 23,
     "metadata": {},
     "output_type": "execute_result"
    }
   ],
   "source": [
    "jwb = j(x,y,w_init,b_init)\n",
    "jwb"
   ]
  }
 ],
 "metadata": {
  "kernelspec": {
   "display_name": "Python 3",
   "language": "python",
   "name": "python3"
  },
  "language_info": {
   "codemirror_mode": {
    "name": "ipython",
    "version": 3
   },
   "file_extension": ".py",
   "mimetype": "text/x-python",
   "name": "python",
   "nbconvert_exporter": "python",
   "pygments_lexer": "ipython3",
   "version": "3.10.6"
  },
  "orig_nbformat": 4
 },
 "nbformat": 4,
 "nbformat_minor": 2
}
